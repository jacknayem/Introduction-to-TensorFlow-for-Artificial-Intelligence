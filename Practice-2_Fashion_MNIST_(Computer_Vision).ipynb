import tensorflow as tf
print(tf.__version__)
mnist = tf.keras.datasets.fashion_mnist
(training_images, training_labels),(test_images, test_labes) = mnist.load_data()
import numpy as np
np.set_printoptions(linewidth=200)
import matplotlib.pyplot as plt
plt.imshow(training_images[0])
print(training_labels)
print(training_images)
training_images = training_images/255.0
test_images = test_images/255.0
model = tf.keras.models.Sequential([tf.keras.layers.Flatten(),
                                   tf.keras.layers.Dense(128, activation=tf.nn.relu),
                                   tf.keras.layers.Dense(10, activation=tf.nn.softmax)])
model.compile(optimizer= tf.optimizers.Adam(), loss = 'sparse_categorical_crossentropy', metrics=['accuracy'])
model.fit(training_images,training_labels, epochs=5)
model.evaluate(test_images, test_labes)
classification = model.predict(test_images)
print(classification[0])
print(test_labes[0])
